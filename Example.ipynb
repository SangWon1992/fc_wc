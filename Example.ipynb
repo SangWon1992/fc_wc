{
 "cells": [
  {
   "cell_type": "code",
   "execution_count": null,
   "metadata": {
    "collapsed": true
   },
   "outputs": [],
   "source": [
    "from selenium import webdriver\n",
    "import pymysql\n",
    "from bs4 import BeautifulSoup\n"
   ]
  },
  {
   "cell_type": "code",
   "execution_count": null,
   "metadata": {},
   "outputs": [],
   "source": [
    "\n",
    "conn = pymysql.connect(host='localhost', user='root', password='ehdtn0909',\n",
    "                       db='fc', charset='utf8')\n",
    "curs = conn.cursor()\n",
    "dr = webdriver.Chrome('/Users/joono/chromedriver')\n",
    "\n",
    "urlss = []\n",
    "titles = []\n",
    "contents = []\n",
    "comments = []\n",
    "pages = 3\n"
   ]
  },
  {
   "cell_type": "code",
   "execution_count": null,
   "metadata": {},
   "outputs": [],
   "source": [
    "for page in range(pages):\n",
    "    dr.get('https://www.clien.net/service/group/community?&od=T31&po={0}'.format(page))\n",
    "    drt = dr.page_source\n",
    "    sp = BeautifulSoup(drt, 'html.parser')\n",
    "    urls = sp.find_all('a', attrs={'class': 'list_reply reply_symph'})\n",
    "    for url in urls[1:]:\n",
    "        url_need = 'https://www.clien.net'+url['href'][:-14]\n",
    "        urlss.append(url_need)\n",
    "        dr.get(url_need)\n",
    "        drt_now = dr.page_source\n",
    "        sp_now = BeautifulSoup(drt_now,'html.parser')\n",
    "        title = sp_now.find('h3',attrs= {'class' : 'post_subject'}).text\n",
    "        titles.append(title)\n",
    "        content = sp_now.find('div',attrs={'class' : 'post_article fr-view'}).text\n",
    "        comment = sp_now.find_all('div',attrs={'class' : 'comment_view'})\n",
    "        comments.append([])\n",
    "        for one_comment in comment:\n",
    "            comments[-1].append(one_comment.text.strip())\n",
    "        contents.append(content)\n"
   ]
  },
  {
   "cell_type": "code",
   "execution_count": null,
   "metadata": {},
   "outputs": [],
   "source": [
    "qdx = 0\n",
    "curs.execute(\"set names utf8\")\n",
    "for i in range(0,len(comments)):\n",
    "    sql = \"INSERT INTO cont VALUES (%s, %s, %s, %s);\"\n",
    "    curs.execute(sql,(urlss[i], titles[i], contents[i], i))\n",
    "    for q in comments[i]:\n",
    "        sql = \"INSERT INTO comm VALUES (%s,%s,%s);\"\n",
    "        curs.execute(sql,(qdx,q,i))\n",
    "        qdx = qdx + 1\n",
    "\n",
    "conn.commit()\n",
    "conn.close()\n",
    "dr.quit()"
   ]
  }
 ],
 "metadata": {
  "kernelspec": {
   "display_name": "Python 2",
   "language": "python",
   "name": "python2"
  },
  "language_info": {
   "codemirror_mode": {
    "name": "ipython",
    "version": 2
   },
   "file_extension": ".py",
   "mimetype": "text/x-python",
   "name": "python",
   "nbconvert_exporter": "python",
   "pygments_lexer": "ipython2",
   "version": "2.7.6"
  }
 },
 "nbformat": 4,
 "nbformat_minor": 0
}
