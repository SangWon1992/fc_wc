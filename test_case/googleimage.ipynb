{
 "cells": [
  {
   "cell_type": "code",
   "execution_count": 2,
   "metadata": {
    "collapsed": true
   },
   "outputs": [],
   "source": [
    "from selenium import webdriver\n",
    "# 웹 브라우저 구동을 위한 셀레늄 패키지의 웹드라이버 모듈을 임포트 합니다\n",
    "from bs4 import BeautifulSoup\n",
    "# 웹 문서에서 원하는 정보를 추출하기 위한 BeautifulSoup 모듈도 가져옵니다\n",
    "import urllib.parse\n",
    "# 가져온 이미지를 저장하기 위한 urllib 패키지도 가져옵니다\n",
    "from selenium.common.exceptions import ElementNotVisibleException\n",
    "# 구글 이미지 검색을 가져오기 위해 나중에 쓸 예외처리를 위해 오류또한 임포트해 놓습니다\n",
    "import time\n",
    "# 이미지 검색이기 때문에 로딩시간이 있어 페이지의 로딩을 기다려 줄 time 패키지도 가져와 놓습니다."
   ]
  },
  {
   "cell_type": "code",
   "execution_count": 3,
   "metadata": {},
   "outputs": [],
   "source": [
    "\n",
    "keyword = urllib.parse.quote('보노보노')\n",
    "# 우선 keyword라는 변수에 저희가 검색할 보노보노를 넣어놓습니다. \n",
    "driverpath = '/Users/joono/chromedriver'\n",
    "# 셀레늄은 웹드라이버의 주소를 인식해야 구동이 가능하기 때문에 다운받아놓은 크롬드라이버의 경로를 지정해 놓습니다.\n",
    "url = 'https://www.google.co.kr/search?q=' + keyword + '&source=lnms&tbm=isch&sa=X&ved=0ahUKEwi9mIGurP_ZAhVFnZQKHTCmDbgQ_AUICigB&biw=709&bih=780&dpr=2'\n",
    "# 만든 이미지 검색 주소를 삽입합니다."
   ]
  },
  {
   "cell_type": "code",
   "execution_count": 5,
   "metadata": {},
   "outputs": [],
   "source": [
    "dr = webdriver.Chrome(driverpath)\n",
    "# dr 이라는 변수에 저희가 사용할 웹드라이버를 불러옵니다.\n",
    "dr.get(url)\n",
    "# get을 사용해 저장해 놓았던 url변수의 주소를 가진 사이트를 오픈합니다.\n",
    "q = True\n",
    "# while 문을 사용하기 위한 변수 q에 우선 True를 대입해 놓습니다.\n",
    "while q ==True:\n",
    "    newHeight = dr.execute_script(\"return document.body.scrollHeight\")\n",
    "    # newHeight라는 변수에 우선은 현재 브라우저 창의 길이를 가져와 놓습니다. 맨 마지막에 더이상 로딩이 되는지를 \n",
    "    # 비교하기 위해 가져온 변수입니다.\n",
    "    dr.execute_script(\"window.scrollTo(0, document.body.scrollHeight);\")\n",
    "    # 그러고 난 후 스크롤을 맨 밑( 바디의 길이만큼) 까지 내려줍니다.\n",
    "    try:\n",
    "        dr.find_element_by_xpath('//*[@id=\"smb\"]').click()\n",
    "        # 예외처리문을 사용해 결과 더보기라는 버튼이 있는지 찾아줍니다. \n",
    "    except ElementNotVisibleException:\n",
    "        # 만약 아직 결과 더보기라는 버튼이 나오지 않았다면, 다시한번 스크롤을 내려줍니다.\n",
    "        dr.execute_script(\"window.scrollTo(0, document.body.scrollHeight);\")\n",
    "        time.sleep(2)\n",
    "    if newHeight == dr.execute_script(\"return document.body.scrollHeight\"):\n",
    "        # 만약에 내려진 길이와 위에서 저장했던 브라우저 바디의 길이가 같다면, 스크롤을 해도 더이상 로딩이 되지 \n",
    "        # 않음을 알수 있습니다.\n",
    "        q = False\n",
    "        # 그러면 q에 False를 할당하여 while문을 멈춰주도록 합니다. \n"
   ]
  },
  {
   "cell_type": "code",
   "execution_count": 6,
   "metadata": {},
   "outputs": [],
   "source": [
    "# 현재 dr에는 보노보노를 검색한 모든 사진들이 들어가 있습니다.\n",
    "#여기서 모든 사진을 가져오는 작업을 할텐데, 사진을 저장하려면 사진의 주소인 src가 필요합니다.\n",
    "\n",
    "drt = dr.page_source\n",
    "#우선 현재 브라우저의 페이지 소스를 가져옵니다.\n",
    "sp = BeautifulSoup(drt,'html.parser')\n",
    "# soup를 사용하여 파싱을 진행해주고\n",
    "images = sp.find_all('img',attrs = {'class' : 'rg_ic rg_i'})\n",
    "# 이미지의 주소를 사용해 모든 이미지를 images에 저장합니다. 위의 attribute는 어떻게 알수 있는지 봅시다.\n",
    "# 여러가지 이미지를 검사해본 결과 class 이름은 바뀌지 않는다는 것을 볼 수 있습니다. 따라서 rg_ic rg_i라는 \n",
    "# class를 가진 이미지를 가져오는데 성공합니다. \n"
   ]
  },
  {
   "cell_type": "code",
   "execution_count": 7,
   "metadata": {},
   "outputs": [],
   "source": [
    "srcs = []\n",
    "#src 를 저장할 리스트를 하나 만듭니다.\n",
    "for image in images:\n",
    "    srcs.append(image.get('src'))\n",
    "# 저장했던 images에서 각각의 image를 뽑아 src를 가져온 후, srcs라는 리스트에 하나하나 저장해 줍니다."
   ]
  },
  {
   "cell_type": "code",
   "execution_count": 8,
   "metadata": {},
   "outputs": [],
   "source": [
    "import sys\n",
    "# 저장경로 설정을 위해 sys를 불러옵니다.\n",
    "for idx,image_src in enumerate(srcs):\n",
    "    #이미지의 파일명을 지정하기 위해 enumerate를 사용해 index까지 불러옵니다.\n",
    "    if image_src != None:\n",
    "        urllib.request.urlretrieve(str(image_src),sys.path[1]+'/files/image'+str(idx+1)+'.jpg')\n",
    "        # 제 프로젝트 안에있는 files라는 폴더에 image + 파일의 인덱스 순서를 추가하여 .jpg파일을 만듭니다. "
   ]
  },
  {
   "cell_type": "code",
   "execution_count": null,
   "metadata": {},
   "outputs": [],
   "source": []
  }
 ],
 "metadata": {
  "kernelspec": {
   "display_name": "Python 2",
   "language": "python",
   "name": "python2"
  },
  "language_info": {
   "codemirror_mode": {
    "name": "ipython",
    "version": 2
   },
   "file_extension": ".py",
   "mimetype": "text/x-python",
   "name": "python",
   "nbconvert_exporter": "python",
   "pygments_lexer": "ipython2",
   "version": "2.7.6"
  }
 },
 "nbformat": 4,
 "nbformat_minor": 0
}
